{
 "cells": [
  {
   "cell_type": "code",
   "execution_count": 6,
   "metadata": {},
   "outputs": [],
   "source": [
    "import requests \n",
    "from bs4 import BeautifulSoup"
   ]
  },
  {
   "cell_type": "markdown",
   "metadata": {},
   "source": [
    "Buscar URL donde tomare la informacion para los analisis de la informacion"
   ]
  },
  {
   "cell_type": "code",
   "execution_count": 7,
   "metadata": {},
   "outputs": [],
   "source": [
    "url = 'https://datos.profeco.gob.mx/datos_abiertos/'"
   ]
  },
  {
   "cell_type": "markdown",
   "metadata": {},
   "source": [
    "Iniciamos con las solicitudes GET"
   ]
  },
  {
   "cell_type": "code",
   "execution_count": 30,
   "metadata": {},
   "outputs": [
    {
     "name": "stdout",
     "output_type": "stream",
     "text": [
      "BASE DE DATOS ABIERTOS ENERO - JULIO 2023\n",
      "file.php?t=91b447e79caa1aa652a40cf5c7c5e83f\n"
     ]
    },
    {
     "ename": "TypeError",
     "evalue": "unsupported operand type(s) for &: 'str' and 'str'",
     "output_type": "error",
     "traceback": [
      "\u001b[1;31m---------------------------------------------------------------------------\u001b[0m",
      "\u001b[1;31mTypeError\u001b[0m                                 Traceback (most recent call last)",
      "Cell \u001b[1;32mIn[30], line 29\u001b[0m\n\u001b[0;32m     25\u001b[0m response \u001b[39m=\u001b[39m requests\u001b[39m.\u001b[39mget(url\u001b[39m+\u001b[39menlace)\n\u001b[0;32m     27\u001b[0m \u001b[39mif\u001b[39;00m response\u001b[39m.\u001b[39mstatus_code \u001b[39m==\u001b[39m \u001b[39m200\u001b[39m:\n\u001b[0;32m     28\u001b[0m     \u001b[39m# Guardar el contenido del archivo en disco\u001b[39;00m\n\u001b[1;32m---> 29\u001b[0m     \u001b[39mwith\u001b[39;00m \u001b[39mopen\u001b[39m(nombre \u001b[39m&\u001b[39;49m \u001b[39m'\u001b[39;49m\u001b[39m.csv\u001b[39;49m\u001b[39m'\u001b[39;49m, \u001b[39m'\u001b[39m\u001b[39mwb\u001b[39m\u001b[39m'\u001b[39m) \u001b[39mas\u001b[39;00m file:\n\u001b[0;32m     30\u001b[0m         file\u001b[39m.\u001b[39mwrite(response\u001b[39m.\u001b[39mcontent)\n\u001b[0;32m     31\u001b[0m     \u001b[39mprint\u001b[39m(\u001b[39mf\u001b[39m\u001b[39m\"\u001b[39m\u001b[39mArchivo \u001b[39m\u001b[39m{\u001b[39;00mnombre\u001b[39m}\u001b[39;00m\u001b[39m descargado exitosamente.\u001b[39m\u001b[39m\"\u001b[39m)\n",
      "\u001b[1;31mTypeError\u001b[0m: unsupported operand type(s) for &: 'str' and 'str'"
     ]
    }
   ],
   "source": [
    "response = requests.get(url)\n",
    "\n",
    "#Creamos un objeto beautifulsoup\n",
    "soup = BeautifulSoup(response.text, 'html.parser')\n",
    "\n",
    "#Buscamos los elementos que estaremos utilizando para iniciar una descarga posterior\n",
    "enlaces_bases_de_datos = soup.find_all('a', href=True)\n",
    "\n",
    "#file.php es nuestro identificador\n",
    "enlaces_filtrados = [enlace['href'] for enlace in enlaces_bases_de_datos if 'file.php?t=' in enlace['href']]\n",
    "\n",
    "nombre_archivo = soup.find_all('a', string=lambda string: string and 'BASE DE DATOS ABIERTOS' in string)\n",
    "\n",
    "for link in nombre_archivo:\n",
    "    nombre = link.get_text(strip=True) + '.csv'\n",
    "    print(nombre)\n",
    "    break\n",
    "\n",
    "#Imprimimos resultados que seran nuestros links\n",
    "for enlace in enlaces_filtrados:\n",
    "    print(enlace)\n",
    "    break\n",
    "\n",
    "#preparando la descarga\n",
    "response = requests.get(url+enlace)\n",
    "\n",
    "if response.status_code == 200:\n",
    "    # Guardar el contenido del archivo en disco\n",
    "    with open(nombre, 'wb') as file:\n",
    "        file.write(response.content)\n",
    "    print(f\"Archivo {nombre} descargado exitosamente.\")\n",
    "else:\n",
    "    print(\"No se pudo descargar el archivo.\")\n"
   ]
  }
 ],
 "metadata": {
  "kernelspec": {
   "display_name": "Python 3",
   "language": "python",
   "name": "python3"
  },
  "language_info": {
   "codemirror_mode": {
    "name": "ipython",
    "version": 3
   },
   "file_extension": ".py",
   "mimetype": "text/x-python",
   "name": "python",
   "nbconvert_exporter": "python",
   "pygments_lexer": "ipython3",
   "version": "3.11.2"
  },
  "orig_nbformat": 4
 },
 "nbformat": 4,
 "nbformat_minor": 2
}
